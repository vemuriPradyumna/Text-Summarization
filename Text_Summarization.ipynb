{
  "cells": [
    {
      "cell_type": "markdown",
      "metadata": {
        "id": "view-in-github",
        "colab_type": "text"
      },
      "source": [
        "<a href=\"https://colab.research.google.com/github/vemuriPradyumna/Text-Summarization/blob/main/Text_Summarization.ipynb\" target=\"_parent\"><img src=\"https://colab.research.google.com/assets/colab-badge.svg\" alt=\"Open In Colab\"/></a>"
      ]
    },
    {
      "cell_type": "code",
      "execution_count": 1,
      "metadata": {
        "id": "etWyClC7maQN"
      },
      "outputs": [],
      "source": [
        "import numpy as np\n",
        "import pandas as pd\n",
        "import nltk\n",
        "import re\n",
        "from nltk.tokenize import sent_tokenize\n",
        "from nltk.corpus import stopwords\n",
        "from sklearn.metrics.pairwise import cosine_similarity\n",
        "import networkx as nx"
      ]
    },
    {
      "cell_type": "code",
      "source": [
        "%cd /content"
      ],
      "metadata": {
        "colab": {
          "base_uri": "https://localhost:8080/"
        },
        "id": "A9kCmpJxsSL0",
        "outputId": "f89be465-1c71-4811-ea50-bdd91396ba9f"
      },
      "execution_count": 3,
      "outputs": [
        {
          "output_type": "stream",
          "name": "stdout",
          "text": [
            "/content\n"
          ]
        }
      ]
    },
    {
      "cell_type": "code",
      "source": [
        "from google.colab import drive\n",
        " \n",
        "drive.mount('/content/gdrive')"
      ],
      "metadata": {
        "colab": {
          "base_uri": "https://localhost:8080/"
        },
        "id": "Qi_sdFCfsREY",
        "outputId": "a5e6e7b2-8849-4cbf-8d3f-ee818c3eab5e"
      },
      "execution_count": 4,
      "outputs": [
        {
          "output_type": "stream",
          "name": "stdout",
          "text": [
            "Mounted at /content/gdrive\n"
          ]
        }
      ]
    },
    {
      "cell_type": "code",
      "execution_count": 5,
      "metadata": {
        "colab": {
          "base_uri": "https://localhost:8080/"
        },
        "id": "nmhosVEYmaQQ",
        "outputId": "33ffa432-2693-4cd7-c6ed-fb4c185f60af"
      },
      "outputs": [
        {
          "output_type": "stream",
          "name": "stdout",
          "text": [
            "[nltk_data] Downloading package punkt to /root/nltk_data...\n",
            "[nltk_data]   Unzipping tokenizers/punkt.zip.\n",
            "[nltk_data] Downloading package stopwords to /root/nltk_data...\n",
            "[nltk_data]   Unzipping corpora/stopwords.zip.\n"
          ]
        },
        {
          "output_type": "execute_result",
          "data": {
            "text/plain": [
              "True"
            ]
          },
          "metadata": {},
          "execution_count": 5
        }
      ],
      "source": [
        "nltk.download('punkt')\n",
        "nltk.download('stopwords')"
      ]
    },
    {
      "cell_type": "code",
      "execution_count": 6,
      "metadata": {
        "id": "30o1868bmaQR"
      },
      "outputs": [],
      "source": [
        "df = pd.read_csv('gdrive/MyDrive/Colab/Text Summarization/tennis_articles_v4.csv')"
      ]
    },
    {
      "cell_type": "code",
      "execution_count": 7,
      "metadata": {
        "colab": {
          "base_uri": "https://localhost:8080/",
          "height": 206
        },
        "id": "3TafdD-JmaQR",
        "outputId": "8dff5f43-5d0b-4490-a06b-9e1cabfac97f"
      },
      "outputs": [
        {
          "output_type": "execute_result",
          "data": {
            "text/html": [
              "\n",
              "  <div id=\"df-59e9e46c-4a36-439e-b09b-3a47eaa83f4d\">\n",
              "    <div class=\"colab-df-container\">\n",
              "      <div>\n",
              "<style scoped>\n",
              "    .dataframe tbody tr th:only-of-type {\n",
              "        vertical-align: middle;\n",
              "    }\n",
              "\n",
              "    .dataframe tbody tr th {\n",
              "        vertical-align: top;\n",
              "    }\n",
              "\n",
              "    .dataframe thead th {\n",
              "        text-align: right;\n",
              "    }\n",
              "</style>\n",
              "<table border=\"1\" class=\"dataframe\">\n",
              "  <thead>\n",
              "    <tr style=\"text-align: right;\">\n",
              "      <th></th>\n",
              "      <th>article_id</th>\n",
              "      <th>article_text</th>\n",
              "      <th>source</th>\n",
              "    </tr>\n",
              "  </thead>\n",
              "  <tbody>\n",
              "    <tr>\n",
              "      <th>0</th>\n",
              "      <td>1</td>\n",
              "      <td>Maria Sharapova has basically no friends as te...</td>\n",
              "      <td>https://www.tennisworldusa.org/tennis/news/Mar...</td>\n",
              "    </tr>\n",
              "    <tr>\n",
              "      <th>1</th>\n",
              "      <td>2</td>\n",
              "      <td>BASEL, Switzerland (AP), Roger Federer advance...</td>\n",
              "      <td>http://www.tennis.com/pro-game/2018/10/copil-s...</td>\n",
              "    </tr>\n",
              "    <tr>\n",
              "      <th>2</th>\n",
              "      <td>3</td>\n",
              "      <td>Roger Federer has revealed that organisers of ...</td>\n",
              "      <td>https://scroll.in/field/899938/tennis-roger-fe...</td>\n",
              "    </tr>\n",
              "    <tr>\n",
              "      <th>3</th>\n",
              "      <td>4</td>\n",
              "      <td>Kei Nishikori will try to end his long losing ...</td>\n",
              "      <td>http://www.tennis.com/pro-game/2018/10/nishiko...</td>\n",
              "    </tr>\n",
              "    <tr>\n",
              "      <th>4</th>\n",
              "      <td>5</td>\n",
              "      <td>Federer, 37, first broke through on tour over ...</td>\n",
              "      <td>https://www.express.co.uk/sport/tennis/1036101...</td>\n",
              "    </tr>\n",
              "  </tbody>\n",
              "</table>\n",
              "</div>\n",
              "      <button class=\"colab-df-convert\" onclick=\"convertToInteractive('df-59e9e46c-4a36-439e-b09b-3a47eaa83f4d')\"\n",
              "              title=\"Convert this dataframe to an interactive table.\"\n",
              "              style=\"display:none;\">\n",
              "        \n",
              "  <svg xmlns=\"http://www.w3.org/2000/svg\" height=\"24px\"viewBox=\"0 0 24 24\"\n",
              "       width=\"24px\">\n",
              "    <path d=\"M0 0h24v24H0V0z\" fill=\"none\"/>\n",
              "    <path d=\"M18.56 5.44l.94 2.06.94-2.06 2.06-.94-2.06-.94-.94-2.06-.94 2.06-2.06.94zm-11 1L8.5 8.5l.94-2.06 2.06-.94-2.06-.94L8.5 2.5l-.94 2.06-2.06.94zm10 10l.94 2.06.94-2.06 2.06-.94-2.06-.94-.94-2.06-.94 2.06-2.06.94z\"/><path d=\"M17.41 7.96l-1.37-1.37c-.4-.4-.92-.59-1.43-.59-.52 0-1.04.2-1.43.59L10.3 9.45l-7.72 7.72c-.78.78-.78 2.05 0 2.83L4 21.41c.39.39.9.59 1.41.59.51 0 1.02-.2 1.41-.59l7.78-7.78 2.81-2.81c.8-.78.8-2.07 0-2.86zM5.41 20L4 18.59l7.72-7.72 1.47 1.35L5.41 20z\"/>\n",
              "  </svg>\n",
              "      </button>\n",
              "      \n",
              "  <style>\n",
              "    .colab-df-container {\n",
              "      display:flex;\n",
              "      flex-wrap:wrap;\n",
              "      gap: 12px;\n",
              "    }\n",
              "\n",
              "    .colab-df-convert {\n",
              "      background-color: #E8F0FE;\n",
              "      border: none;\n",
              "      border-radius: 50%;\n",
              "      cursor: pointer;\n",
              "      display: none;\n",
              "      fill: #1967D2;\n",
              "      height: 32px;\n",
              "      padding: 0 0 0 0;\n",
              "      width: 32px;\n",
              "    }\n",
              "\n",
              "    .colab-df-convert:hover {\n",
              "      background-color: #E2EBFA;\n",
              "      box-shadow: 0px 1px 2px rgba(60, 64, 67, 0.3), 0px 1px 3px 1px rgba(60, 64, 67, 0.15);\n",
              "      fill: #174EA6;\n",
              "    }\n",
              "\n",
              "    [theme=dark] .colab-df-convert {\n",
              "      background-color: #3B4455;\n",
              "      fill: #D2E3FC;\n",
              "    }\n",
              "\n",
              "    [theme=dark] .colab-df-convert:hover {\n",
              "      background-color: #434B5C;\n",
              "      box-shadow: 0px 1px 3px 1px rgba(0, 0, 0, 0.15);\n",
              "      filter: drop-shadow(0px 1px 2px rgba(0, 0, 0, 0.3));\n",
              "      fill: #FFFFFF;\n",
              "    }\n",
              "  </style>\n",
              "\n",
              "      <script>\n",
              "        const buttonEl =\n",
              "          document.querySelector('#df-59e9e46c-4a36-439e-b09b-3a47eaa83f4d button.colab-df-convert');\n",
              "        buttonEl.style.display =\n",
              "          google.colab.kernel.accessAllowed ? 'block' : 'none';\n",
              "\n",
              "        async function convertToInteractive(key) {\n",
              "          const element = document.querySelector('#df-59e9e46c-4a36-439e-b09b-3a47eaa83f4d');\n",
              "          const dataTable =\n",
              "            await google.colab.kernel.invokeFunction('convertToInteractive',\n",
              "                                                     [key], {});\n",
              "          if (!dataTable) return;\n",
              "\n",
              "          const docLinkHtml = 'Like what you see? Visit the ' +\n",
              "            '<a target=\"_blank\" href=https://colab.research.google.com/notebooks/data_table.ipynb>data table notebook</a>'\n",
              "            + ' to learn more about interactive tables.';\n",
              "          element.innerHTML = '';\n",
              "          dataTable['output_type'] = 'display_data';\n",
              "          await google.colab.output.renderOutput(dataTable, element);\n",
              "          const docLink = document.createElement('div');\n",
              "          docLink.innerHTML = docLinkHtml;\n",
              "          element.appendChild(docLink);\n",
              "        }\n",
              "      </script>\n",
              "    </div>\n",
              "  </div>\n",
              "  "
            ],
            "text/plain": [
              "   article_id  ...                                             source\n",
              "0           1  ...  https://www.tennisworldusa.org/tennis/news/Mar...\n",
              "1           2  ...  http://www.tennis.com/pro-game/2018/10/copil-s...\n",
              "2           3  ...  https://scroll.in/field/899938/tennis-roger-fe...\n",
              "3           4  ...  http://www.tennis.com/pro-game/2018/10/nishiko...\n",
              "4           5  ...  https://www.express.co.uk/sport/tennis/1036101...\n",
              "\n",
              "[5 rows x 3 columns]"
            ]
          },
          "metadata": {},
          "execution_count": 7
        }
      ],
      "source": [
        "df.head()"
      ]
    },
    {
      "cell_type": "code",
      "execution_count": 8,
      "metadata": {
        "colab": {
          "base_uri": "https://localhost:8080/"
        },
        "id": "tm9-AEibmaQS",
        "outputId": "a5697c25-2ca3-4d3f-ad44-410ab6542578"
      },
      "outputs": [
        {
          "output_type": "stream",
          "name": "stdout",
          "text": [
            "1 \n",
            "\n",
            " 1561 \n",
            "\n",
            " Maria Sharapova has basically no friends as tennis players on the WTA Tour. The Russian player has no problems in openly speaking about it and in a recent interview she said: 'I don't really hide any feelings too much. I think everyone knows this is my job here. When I'm on the courts or when I'm on the court playing, I'm a competitor and I want to beat every single person whether they're in the locker room or across the net.So I'm not the one to strike up a conversation about the weather and know that in the next few minutes I have to go and try to win a tennis match. I'm a pretty competitive girl. I say my hellos, but I'm not sending any players flowers as well. Uhm, I'm not really friendly or close to many players. I have not a lot of friends away from the courts.' When she said she is not really close to a lot of players, is that something strategic that she is doing? Is it different on the men's tour than the women's tour? 'No, not at all. I think just because you're in the same sport doesn't mean that you have to be friends with everyone just because you're categorized, you're a tennis player, so you're going to get along with tennis players. I think every person has different interests. I have friends that have completely different jobs and interests, and I've met them in very different parts of my life. I think everyone just thinks because we're tennis players we should be the greatest of friends. But ultimately tennis is just a very small part of what we do. There are so many other things that we're interested in, that we do.'\n",
            "2 \n",
            "\n",
            " 1331 \n",
            "\n",
            " BASEL, Switzerland (AP), Roger Federer advanced to the 14th Swiss Indoors final of his career by beating seventh-seeded Daniil Medvedev 6-1, 6-4 on Saturday. Seeking a ninth title at his hometown event, and a 99th overall, Federer will play 93th-ranked Marius Copil on Sunday. Federer dominated the 20th-ranked Medvedev and had his first match-point chance to break serve again at 5-1. He then dropped his serve to love, and let another match point slip in Medvedev's next service game by netting a backhand. He clinched on his fourth chance when Medvedev netted from the baseline. Copil upset expectations of a Federer final against Alexander Zverev in a 6-3, 6-7 (6), 6-4 win over the fifth-ranked German in the earlier semifinal. The Romanian aims for a first title after arriving at Basel without a career win over a top-10 opponent. Copil has two after also beating No. 6 Marin Cilic in the second round. Copil fired 26 aces past Zverev and never dropped serve, clinching after 2 1/2 hours with a forehand volley winner to break Zverev for the second time in the semifinal. He came through two rounds of qualifying last weekend to reach the Basel main draw, including beating Zverev's older brother, Mischa. Federer had an easier time than in his only previous match against Medvedev, a three-setter at Shanghai two weeks ago.\n",
            "3 \n",
            "\n",
            " 2063 \n",
            "\n",
            " Roger Federer has revealed that organisers of the re-launched and condensed Davis Cup gave him three days to decide if he would commit to the controversial competition. Speaking at the Swiss Indoors tournament where he will play in Sundays final against Romanian qualifier Marius Copil, the world number three said that given the impossibly short time frame to make a decision, he opted out of any commitment. \"They only left me three days to decide\", Federer said. \"I didn't to have time to consult with all the people I had to consult. \"I could not make a decision in that time, so I told them to do what they wanted.\" The 20-time Grand Slam champion has voiced doubts about the wisdom of the one-week format to be introduced by organisers Kosmos, who have promised the International Tennis Federation up to $3 billion in prize money over the next quarter-century. The competition is set to feature 18 countries in the November 18-24 finals in Madrid next year, and will replace the classic home-and-away ties played four times per year for decades. Kosmos is headed by Barcelona footballer Gerard Pique, who is hoping fellow Spaniard Rafael Nadal will play in the upcoming event. Novak Djokovic has said he will give precedence to the ATP's intended re-launch of the defunct World Team Cup in January 2020, at various Australian venues. Major players feel that a big event in late November combined with one in January before the Australian Open will mean too much tennis and too little rest. Federer said earlier this month in Shanghai in that his chances of playing the Davis Cup were all but non-existent. \"I highly doubt it, of course. We will see what happens,\" he said. \"I do not think this was designed for me, anyhow. This was designed for the future generation of players.\" Argentina and Britain received wild cards to the new-look event, and will compete along with the four 2018 semi-finalists and the 12 teams who win qualifying rounds next February. \"I don't like being under that kind of pressure,\" Federer said of the deadline Kosmos handed him.\n",
            "4 \n",
            "\n",
            " 1341 \n",
            "\n",
            " Kei Nishikori will try to end his long losing streak in ATP finals and Kevin Anderson will go for his second title of the year at the Erste Bank Open on Sunday. The fifth-seeded Nishikori reached his third final of 2018 after beating Mikhail Kukushkin of Kazakhstan 6-4, 6-3 in the semifinals. A winner of 11 ATP events, Nishikori hasn't triumphed since winning in Memphis in February 2016. He has lost eight straight finals since. The second-seeded Anderson defeated Fernando Verdasco 6-3, 3-6, 6-4. Anderson has a shot at a fifth career title and second of the year after winning in New York in February. Nishikori leads Anderson 4-2 on career matchups, but the South African won their only previous meeting this year. With a victory on Sunday, Anderson will qualify for the ATP Finals. Currently in ninth place, Nishikori with a win could move to within 125 points of the cut for the eight-man event in London next month. Nishikori held serve throughout against Kukushkin, who came through qualifying. He used his first break point to close out the first set before going up 3-0 in the second and wrapping up the win on his first match point. Against Verdasco, Anderson hit nine of his 19 aces in the opening set. The Spaniard broke Anderson twice in the second but didn't get another chance on the South African's serve in the final set.\n",
            "5 \n",
            "\n",
            " 2076 \n",
            "\n",
            " Federer, 37, first broke through on tour over two decades ago and he has since gone on to enjoy a glittering career. The 20-time Grand Slam winner is chasing his 99th ATP title at the Swiss Indoors this week and he faces Jan-Lennard Struff in the second round on Thursday (6pm BST). Davenport enjoyed most of her success in the late 1990s and her third and final major tournament win came at the 2000 Australian Open. But she claims the mentality of professional tennis players slowly began to change after the new millennium. \"It seems pretty friendly right now,\" said Davenport. \"I think there is a really nice environment and a great atmosphere, especially between some of the veteran players helping some of the younger players out. \"It's a very pleasant atmosphere, I'd have to say, around the locker rooms. \"I felt like the best weeks that I had to get to know players when I was playing were the Fed Cup weeks or the Olympic weeks, not necessarily during the tournaments. \"And even though maybe we had smaller teams, I still think we kept to ourselves quite a bit. \"Not always, but I really feel like in the mid-2000 years there was a huge shift of the attitudes of the top players and being more friendly and being more giving, and a lot of that had to do with players like Roger coming up. \"I just felt like it really kind of changed where people were a little bit, definitely in the 90s, a lot more quiet, into themselves, and then it started to become better.\" Meanwhile, Federer is hoping he can improve his service game as he hunts his ninth Swiss Indoors title this week. \"I didn't serve very well [against first-round opponent Filip Kranjovic,\" Federer said. \"I think I was misfiring the corners, I was not hitting the lines enough. \"Clearly you make your life more difficult, but still I was up 6-2, 3-1, break points, so things could have ended very quickly today, even though I didn't have the best serve percentage stats. \"But maybe that's exactly what caught up to me eventually. It's just getting used to it. This is where the first rounds can be tricky.\"\n",
            "6 \n",
            "\n",
            " 1545 \n",
            "\n",
            " Nadal has not played tennis since he was forced to retire from the US Open semi-finals against Juan Martin Del Porto with a knee injury. The world No 1 has been forced to miss Spain's Davis Cup clash with France and the Asian hard court season. But with the ATP World Tour Finals due to begin next month, Nadal is ready to prove his fitness before the season-ending event at the 02 Arena. Nadal flew to Paris on Friday and footage from the Paris Masters official Twitter account shows the Spaniard smiling as he strides onto court for practice. The Paris Masters draw has been made and Nadal will start his campaign on Tuesday or Wednesday against either Fernando Verdasco or Jeremy Chardy. Nadal could then play defending champion Jack Sock in the third round before a potential quarter-final with either Borna Coric or Dominic Thiem. Nadal's appearance in Paris is a big boost to the tournament organisers who could see Roger Federer withdraw. Federer is in action at the Swiss Indoors in Basel and if he reaches the final, he could pull out of Paris in a bid to stay fresh for London. But as it stands, Federer is in the draw and is scheduled to face either former world No 3 Milos Raonic or Jo-Wilfried Tsonga in the second round. Federer's projected route to the Paris final could also lead to matches against Kevin Anderson and Novak Djokovic. Djokovic could play Marco Cecchinato in the second round. British No 1 Kyle Edmund is the 12th seed in Paris and will get underway in round two against either Karen Khachanov or Filip Krajinovic.\n",
            "7 \n",
            "\n",
            " 1079 \n",
            "\n",
            " Tennis giveth, and tennis taketh away. The end of the season is finally in sight, and with so many players defending,or losing,huge chunks of points in Singapore, Zhuhai and London, podcast co-hosts Nina Pantic and Irina Falconi discuss the art of defending points (02:14). It's no secret that Jack Sock has struggled on the singles court this year (his record is 7-19). He could lose 1,400 points in the next few weeks, but instead of focusing on the negative, it can all be about perspective (06:28). Let's also not forget his two Grand Slam doubles triumphs this season. Two players, Stefanos Tsitsipas and Kyle Edmund, won their first career ATP titles last week (13:26). It's a big deal because you never forget your first. Irina looks back at her WTA title win in Bogota in 2016, and tells an unforgettable story about her semifinal drama (14:04). In Singapore, one of the biggest storylines (aside from the matches, of course) has been the on-court coaching debate. Nina and Irina give their opinions on what coaching should look like in the future, on both tours (18:55).\n",
            "8 \n",
            "\n",
            " 1833 \n",
            "\n",
            " Federer won the Swiss Indoors last week by beating Romanian qualifier Marius Copil in the final. The 37-year-old claimed his 99th ATP title and is hunting the century in the French capital this week. Federer has been handed a difficult draw where could could come across Kevin Anderson, Novak Djokovic and Rafael Nadal in the latter rounds. But first the 20-time Grand Slam winner wants to train on the Paris Masters court this afternoon before deciding whether to appear for his opening match against either Milos Raonic or Jo-Wilfried Tsonga. \"On Monday, I am free and will look how I feel,\" Federer said after winning the Swiss Indoors. \"On Tuesday I will fly to Paris and train in the afternoon to be ready for my first match on Wednesday night. \"I felt good all week and better every day. \"We also had the impression that at this stage it might be better to play matches than to train. \"And as long as I fear no injury, I play.\" Federer's success in Basel last week was the ninth time he has won his hometown tournament. And he was delighted to be watched on by all of his family and friends as he purchased 60 tickets for the final for those dearest to him. \"My children, my parents, my sister and my team are all there,\" Federer added. \"It is always very emotional for me to thank my team. And sometimes it tilts with the emotions, sometimes I just stumble. \"It means the world to me. It makes me incredibly happy to win my home tournament and make people happy here. \"I do not know if it's maybe my last title, so today I try a lot more to absorb that and enjoy the moments much more consciously. \"Maybe I should celebrate as if it were my last title. \"There are very touching moments: seeing the ball children, the standing ovations, all the familiar faces in the audience. Because it was not always easy in the last weeks.\"\n"
          ]
        }
      ],
      "source": [
        "for i in range(0,len(df['article_id']),1):\n",
        "    print(i+1,'\\n\\n',len(df['article_text'][i]),'\\n\\n',df['article_text'][i])"
      ]
    },
    {
      "cell_type": "code",
      "execution_count": 9,
      "metadata": {
        "id": "kL_dGdK7maQS"
      },
      "outputs": [],
      "source": [
        "sentences = []\n",
        "for s in df['article_text']:\n",
        "    sentences.append(sent_tokenize(s))\n",
        "\n",
        "sentences = [y for x in sentences for y in x] # flatten list"
      ]
    },
    {
      "cell_type": "code",
      "execution_count": 10,
      "metadata": {
        "id": "KvAOmIopmaQT"
      },
      "outputs": [],
      "source": [
        "# remove punctuations, numbers and special characters\n",
        "clean_sentences = pd.Series(sentences).str.replace(\"[^a-zA-Z]\", \" \")\n",
        "\n",
        "# make alphabets lowercase\n",
        "clean_sentences = [s.lower() for s in clean_sentences]"
      ]
    },
    {
      "cell_type": "code",
      "execution_count": 11,
      "metadata": {
        "colab": {
          "base_uri": "https://localhost:8080/"
        },
        "id": "RtTCBSxtmaQU",
        "outputId": "2753d9a8-7cde-456e-b44c-9b5ff0477e41"
      },
      "outputs": [
        {
          "output_type": "stream",
          "name": "stdout",
          "text": [
            "['maria sharapova has basically no friends as tennis players on the wta tour ', 'the russian player has no problems in openly speaking about it and in a recent interview she said   i don t really hide any feelings too much ', 'i think everyone knows this is my job here ', 'when i m on the courts or when i m on the court playing  i m a competitor and i want to beat every single person whether they re in the locker room or across the net so i m not the one to strike up a conversation about the weather and know that in the next few minutes i have to go and try to win a tennis match ', 'i m a pretty competitive girl ', 'i say my hellos  but i m not sending any players flowers as well ', 'uhm  i m not really friendly or close to many players ', 'i have not a lot of friends away from the courts  ', 'when she said she is not really close to a lot of players  is that something strategic that she is doing ', 'is it different on the men s tour than the women s tour ', ' no  not at all ', 'i think just because you re in the same sport doesn t mean that you have to be friends with everyone just because you re categorized  you re a tennis player  so you re going to get along with tennis players ', 'i think every person has different interests ', 'i have friends that have completely different jobs and interests  and i ve met them in very different parts of my life ', 'i think everyone just thinks because we re tennis players we should be the greatest of friends ', 'but ultimately tennis is just a very small part of what we do ', 'there are so many other things that we re interested in  that we do  ', 'basel  switzerland  ap   roger federer advanced to the   th swiss indoors final of his career by beating seventh seeded daniil medvedev          on saturday ', 'seeking a ninth title at his hometown event  and a   th overall  federer will play   th ranked marius copil on sunday ', 'federer dominated the   th ranked medvedev and had his first match point chance to break serve again at     ', 'he then dropped his serve to love  and let another match point slip in medvedev s next service game by netting a backhand ', 'he clinched on his fourth chance when medvedev netted from the baseline ', 'copil upset expectations of a federer final against alexander zverev in a                   win over the fifth ranked german in the earlier semifinal ', 'the romanian aims for a first title after arriving at basel without a career win over a top    opponent ', 'copil has two after also beating no ', '  marin cilic in the second round ', 'copil fired    aces past zverev and never dropped serve  clinching after       hours with a forehand volley winner to break zverev for the second time in the semifinal ', 'he came through two rounds of qualifying last weekend to reach the basel main draw  including beating zverev s older brother  mischa ', 'federer had an easier time than in his only previous match against medvedev  a three setter at shanghai two weeks ago ', 'roger federer has revealed that organisers of the re launched and condensed davis cup gave him three days to decide if he would commit to the controversial competition ', 'speaking at the swiss indoors tournament where he will play in sundays final against romanian qualifier marius copil  the world number three said that given the impossibly short time frame to make a decision  he opted out of any commitment ', ' they only left me three days to decide   federer said ', ' i didn t to have time to consult with all the people i had to consult ', ' i could not make a decision in that time  so i told them to do what they wanted  ', 'the    time grand slam champion has voiced doubts about the wisdom of the one week format to be introduced by organisers kosmos  who have promised the international tennis federation up to    billion in prize money over the next quarter century ', 'the competition is set to feature    countries in the november       finals in madrid next year  and will replace the classic home and away ties played four times per year for decades ', 'kosmos is headed by barcelona footballer gerard pique  who is hoping fellow spaniard rafael nadal will play in the upcoming event ', 'novak djokovic has said he will give precedence to the atp s intended re launch of the defunct world team cup in january       at various australian venues ', 'major players feel that a big event in late november combined with one in january before the australian open will mean too much tennis and too little rest ', 'federer said earlier this month in shanghai in that his chances of playing the davis cup were all but non existent ', ' i highly doubt it  of course ', 'we will see what happens   he said ', ' i do not think this was designed for me  anyhow ', 'this was designed for the future generation of players  ', 'argentina and britain received wild cards to the new look event  and will compete along with the four      semi finalists and the    teams who win qualifying rounds next february ', ' i don t like being under that kind of pressure   federer said of the deadline kosmos handed him ', 'kei nishikori will try to end his long losing streak in atp finals and kevin anderson will go for his second title of the year at the erste bank open on sunday ', 'the fifth seeded nishikori reached his third final of      after beating mikhail kukushkin of kazakhstan          in the semifinals ', 'a winner of    atp events  nishikori hasn t triumphed since winning in memphis in february      ', 'he has lost eight straight finals since ', 'the second seeded anderson defeated fernando verdasco               ', 'anderson has a shot at a fifth career title and second of the year after winning in new york in february ', 'nishikori leads anderson     on career matchups  but the south african won their only previous meeting this year ', 'with a victory on sunday  anderson will qualify for the atp finals ', 'currently in ninth place  nishikori with a win could move to within     points of the cut for the eight man event in london next month ', 'nishikori held serve throughout against kukushkin  who came through qualifying ', 'he used his first break point to close out the first set before going up     in the second and wrapping up the win on his first match point ', 'against verdasco  anderson hit nine of his    aces in the opening set ', 'the spaniard broke anderson twice in the second but didn t get another chance on the south african s serve in the final set ', 'federer      first broke through on tour over two decades ago and he has since gone on to enjoy a glittering career ', 'the    time grand slam winner is chasing his   th atp title at the swiss indoors this week and he faces jan lennard struff in the second round on thursday   pm bst  ', 'davenport enjoyed most of her success in the late     s and her third and final major tournament win came at the      australian open ', 'but she claims the mentality of professional tennis players slowly began to change after the new millennium ', ' it seems pretty friendly right now   said davenport ', ' i think there is a really nice environment and a great atmosphere  especially between some of the veteran players helping some of the younger players out ', ' it s a very pleasant atmosphere  i d have to say  around the locker rooms ', ' i felt like the best weeks that i had to get to know players when i was playing were the fed cup weeks or the olympic weeks  not necessarily during the tournaments ', ' and even though maybe we had smaller teams  i still think we kept to ourselves quite a bit ', ' not always  but i really feel like in the mid      years there was a huge shift of the attitudes of the top players and being more friendly and being more giving  and a lot of that had to do with players like roger coming up ', ' i just felt like it really kind of changed where people were a little bit  definitely in the   s  a lot more quiet  into themselves  and then it started to become better  ', 'meanwhile  federer is hoping he can improve his service game as he hunts his ninth swiss indoors title this week ', ' i didn t serve very well  against first round opponent filip kranjovic   federer said ', ' i think i was misfiring the corners  i was not hitting the lines enough ', ' clearly you make your life more difficult  but still i was up           break points  so things could have ended very quickly today  even though i didn t have the best serve percentage stats ', ' but maybe that s exactly what caught up to me eventually ', 'it s just getting used to it ', 'this is where the first rounds can be tricky  ', 'nadal has not played tennis since he was forced to retire from the us open semi finals against juan martin del porto with a knee injury ', 'the world no   has been forced to miss spain s davis cup clash with france and the asian hard court season ', 'but with the atp world tour finals due to begin next month  nadal is ready to prove his fitness before the season ending event at the    arena ', 'nadal flew to paris on friday and footage from the paris masters official twitter account shows the spaniard smiling as he strides onto court for practice ', 'the paris masters draw has been made and nadal will start his campaign on tuesday or wednesday against either fernando verdasco or jeremy chardy ', 'nadal could then play defending champion jack sock in the third round before a potential quarter final with either borna coric or dominic thiem ', 'nadal s appearance in paris is a big boost to the tournament organisers who could see roger federer withdraw ', 'federer is in action at the swiss indoors in basel and if he reaches the final  he could pull out of paris in a bid to stay fresh for london ', 'but as it stands  federer is in the draw and is scheduled to face either former world no   milos raonic or jo wilfried tsonga in the second round ', 'federer s projected route to the paris final could also lead to matches against kevin anderson and novak djokovic ', 'djokovic could play marco cecchinato in the second round ', 'british no   kyle edmund is the   th seed in paris and will get underway in round two against either karen khachanov or filip krajinovic ', 'tennis giveth  and tennis taketh away ', 'the end of the season is finally in sight  and with so many players defending or losing huge chunks of points in singapore  zhuhai and london  podcast co hosts nina pantic and irina falconi discuss the art of defending points         ', 'it s no secret that jack sock has struggled on the singles court this year  his record is       ', 'he could lose       points in the next few weeks  but instead of focusing on the negative  it can all be about perspective         ', 'let s also not forget his two grand slam doubles triumphs this season ', 'two players  stefanos tsitsipas and kyle edmund  won their first career atp titles last week         ', 'it s a big deal because you never forget your first ', 'irina looks back at her wta title win in bogota in       and tells an unforgettable story about her semifinal drama         ', 'in singapore  one of the biggest storylines  aside from the matches  of course  has been the on court coaching debate ', 'nina and irina give their opinions on what coaching should look like in the future  on both tours         ', 'federer won the swiss indoors last week by beating romanian qualifier marius copil in the final ', 'the    year old claimed his   th atp title and is hunting the century in the french capital this week ', 'federer has been handed a difficult draw where could could come across kevin anderson  novak djokovic and rafael nadal in the latter rounds ', 'but first the    time grand slam winner wants to train on the paris masters court this afternoon before deciding whether to appear for his opening match against either milos raonic or jo wilfried tsonga ', ' on monday  i am free and will look how i feel   federer said after winning the swiss indoors ', ' on tuesday i will fly to paris and train in the afternoon to be ready for my first match on wednesday night ', ' i felt good all week and better every day ', ' we also had the impression that at this stage it might be better to play matches than to train ', ' and as long as i fear no injury  i play  ', 'federer s success in basel last week was the ninth time he has won his hometown tournament ', 'and he was delighted to be watched on by all of his family and friends as he purchased    tickets for the final for those dearest to him ', ' my children  my parents  my sister and my team are all there   federer added ', ' it is always very emotional for me to thank my team ', 'and sometimes it tilts with the emotions  sometimes i just stumble ', ' it means the world to me ', 'it makes me incredibly happy to win my home tournament and make people happy here ', ' i do not know if it s maybe my last title  so today i try a lot more to absorb that and enjoy the moments much more consciously ', ' maybe i should celebrate as if it were my last title ', ' there are very touching moments  seeing the ball children  the standing ovations  all the familiar faces in the audience ', 'because it was not always easy in the last weeks  ']\n"
          ]
        }
      ],
      "source": [
        "print(clean_sentences)"
      ]
    },
    {
      "cell_type": "code",
      "execution_count": 12,
      "metadata": {
        "id": "QwbuhxxUmaQV"
      },
      "outputs": [],
      "source": [
        "stop_words = stopwords.words('english')"
      ]
    },
    {
      "cell_type": "code",
      "execution_count": 13,
      "metadata": {
        "id": "U9korbq1maQV"
      },
      "outputs": [],
      "source": [
        "def remove_stopwords(sen):\n",
        "    sen_new = \" \".join([i for i in sen if i not in stop_words])\n",
        "    return sen_new"
      ]
    },
    {
      "cell_type": "code",
      "execution_count": 14,
      "metadata": {
        "id": "bx92_oqDmaQV"
      },
      "outputs": [],
      "source": [
        "clean_sentences = [remove_stopwords(r.split()) for r in clean_sentences]"
      ]
    },
    {
      "cell_type": "code",
      "execution_count": 15,
      "metadata": {
        "colab": {
          "base_uri": "https://localhost:8080/"
        },
        "id": "-U0N9ztmmaQW",
        "outputId": "8c08d1dc-9974-4a7e-8af9-26da6bf36fd1"
      },
      "outputs": [
        {
          "output_type": "stream",
          "name": "stdout",
          "text": [
            "['maria sharapova basically friends tennis players wta tour', 'russian player problems openly speaking recent interview said really hide feelings much', 'think everyone knows job', 'courts court playing competitor want beat every single person whether locker room across net one strike conversation weather know next minutes go try win tennis match', 'pretty competitive girl', 'say hellos sending players flowers well', 'uhm really friendly close many players', 'lot friends away courts', 'said really close lot players something strategic', 'different men tour women tour', '', 'think sport mean friends everyone categorized tennis player going get along tennis players', 'think every person different interests', 'friends completely different jobs interests met different parts life', 'think everyone thinks tennis players greatest friends', 'ultimately tennis small part', 'many things interested', 'basel switzerland ap roger federer advanced th swiss indoors final career beating seventh seeded daniil medvedev saturday', 'seeking ninth title hometown event th overall federer play th ranked marius copil sunday', 'federer dominated th ranked medvedev first match point chance break serve', 'dropped serve love let another match point slip medvedev next service game netting backhand', 'clinched fourth chance medvedev netted baseline', 'copil upset expectations federer final alexander zverev win fifth ranked german earlier semifinal', 'romanian aims first title arriving basel without career win top opponent', 'copil two also beating', 'marin cilic second round', 'copil fired aces past zverev never dropped serve clinching hours forehand volley winner break zverev second time semifinal', 'came two rounds qualifying last weekend reach basel main draw including beating zverev older brother mischa', 'federer easier time previous match medvedev three setter shanghai two weeks ago', 'roger federer revealed organisers launched condensed davis cup gave three days decide would commit controversial competition', 'speaking swiss indoors tournament play sundays final romanian qualifier marius copil world number three said given impossibly short time frame make decision opted commitment', 'left three days decide federer said', 'time consult people consult', 'could make decision time told wanted', 'time grand slam champion voiced doubts wisdom one week format introduced organisers kosmos promised international tennis federation billion prize money next quarter century', 'competition set feature countries november finals madrid next year replace classic home away ties played four times per year decades', 'kosmos headed barcelona footballer gerard pique hoping fellow spaniard rafael nadal play upcoming event', 'novak djokovic said give precedence atp intended launch defunct world team cup january various australian venues', 'major players feel big event late november combined one january australian open mean much tennis little rest', 'federer said earlier month shanghai chances playing davis cup non existent', 'highly doubt course', 'see happens said', 'think designed anyhow', 'designed future generation players', 'argentina britain received wild cards new look event compete along four semi finalists teams win qualifying rounds next february', 'like kind pressure federer said deadline kosmos handed', 'kei nishikori try end long losing streak atp finals kevin anderson go second title year erste bank open sunday', 'fifth seeded nishikori reached third final beating mikhail kukushkin kazakhstan semifinals', 'winner atp events nishikori triumphed since winning memphis february', 'lost eight straight finals since', 'second seeded anderson defeated fernando verdasco', 'anderson shot fifth career title second year winning new york february', 'nishikori leads anderson career matchups south african previous meeting year', 'victory sunday anderson qualify atp finals', 'currently ninth place nishikori win could move within points cut eight man event london next month', 'nishikori held serve throughout kukushkin came qualifying', 'used first break point close first set going second wrapping win first match point', 'verdasco anderson hit nine aces opening set', 'spaniard broke anderson twice second get another chance south african serve final set', 'federer first broke tour two decades ago since gone enjoy glittering career', 'time grand slam winner chasing th atp title swiss indoors week faces jan lennard struff second round thursday pm bst', 'davenport enjoyed success late third final major tournament win came australian open', 'claims mentality professional tennis players slowly began change new millennium', 'seems pretty friendly right said davenport', 'think really nice environment great atmosphere especially veteran players helping younger players', 'pleasant atmosphere say around locker rooms', 'felt like best weeks get know players playing fed cup weeks olympic weeks necessarily tournaments', 'even though maybe smaller teams still think kept quite bit', 'always really feel like mid years huge shift attitudes top players friendly giving lot players like roger coming', 'felt like really kind changed people little bit definitely lot quiet started become better', 'meanwhile federer hoping improve service game hunts ninth swiss indoors title week', 'serve well first round opponent filip kranjovic federer said', 'think misfiring corners hitting lines enough', 'clearly make life difficult still break points things could ended quickly today even though best serve percentage stats', 'maybe exactly caught eventually', 'getting used', 'first rounds tricky', 'nadal played tennis since forced retire us open semi finals juan martin del porto knee injury', 'world forced miss spain davis cup clash france asian hard court season', 'atp world tour finals due begin next month nadal ready prove fitness season ending event arena', 'nadal flew paris friday footage paris masters official twitter account shows spaniard smiling strides onto court practice', 'paris masters draw made nadal start campaign tuesday wednesday either fernando verdasco jeremy chardy', 'nadal could play defending champion jack sock third round potential quarter final either borna coric dominic thiem', 'nadal appearance paris big boost tournament organisers could see roger federer withdraw', 'federer action swiss indoors basel reaches final could pull paris bid stay fresh london', 'stands federer draw scheduled face either former world milos raonic jo wilfried tsonga second round', 'federer projected route paris final could also lead matches kevin anderson novak djokovic', 'djokovic could play marco cecchinato second round', 'british kyle edmund th seed paris get underway round two either karen khachanov filip krajinovic', 'tennis giveth tennis taketh away', 'end season finally sight many players defending losing huge chunks points singapore zhuhai london podcast co hosts nina pantic irina falconi discuss art defending points', 'secret jack sock struggled singles court year record', 'could lose points next weeks instead focusing negative perspective', 'let also forget two grand slam doubles triumphs season', 'two players stefanos tsitsipas kyle edmund first career atp titles last week', 'big deal never forget first', 'irina looks back wta title win bogota tells unforgettable story semifinal drama', 'singapore one biggest storylines aside matches course court coaching debate', 'nina irina give opinions coaching look like future tours', 'federer swiss indoors last week beating romanian qualifier marius copil final', 'year old claimed th atp title hunting century french capital week', 'federer handed difficult draw could could come across kevin anderson novak djokovic rafael nadal latter rounds', 'first time grand slam winner wants train paris masters court afternoon deciding whether appear opening match either milos raonic jo wilfried tsonga', 'monday free look feel federer said winning swiss indoors', 'tuesday fly paris train afternoon ready first match wednesday night', 'felt good week better every day', 'also impression stage might better play matches train', 'long fear injury play', 'federer success basel last week ninth time hometown tournament', 'delighted watched family friends purchased tickets final dearest', 'children parents sister team federer added', 'always emotional thank team', 'sometimes tilts emotions sometimes stumble', 'means world', 'makes incredibly happy win home tournament make people happy', 'know maybe last title today try lot absorb enjoy moments much consciously', 'maybe celebrate last title', 'touching moments seeing ball children standing ovations familiar faces audience', 'always easy last weeks']\n"
          ]
        }
      ],
      "source": [
        "print(clean_sentences)"
      ]
    },
    {
      "cell_type": "code",
      "execution_count": 16,
      "metadata": {
        "id": "Emueac88maQW"
      },
      "outputs": [],
      "source": [
        "word_embeddings = {}\n",
        "f = open('gdrive/MyDrive/Colab/Text Summarization/glove.6B.100d.txt', encoding='utf-8')\n",
        "for line in f:\n",
        "    values = line.split()\n",
        "    word = values[0]\n",
        "    coefs = np.asarray(values[1:], dtype='float32')\n",
        "    word_embeddings[word] = coefs\n",
        "f.close()"
      ]
    },
    {
      "cell_type": "code",
      "execution_count": 17,
      "metadata": {
        "colab": {
          "base_uri": "https://localhost:8080/"
        },
        "id": "FIbLtd0XmaQW",
        "outputId": "4459b824-7cd4-43e8-d929-dcf8dd9b9f38"
      },
      "outputs": [
        {
          "output_type": "stream",
          "name": "stdout",
          "text": [
            "400000\n"
          ]
        }
      ],
      "source": [
        "print(len(word_embeddings))"
      ]
    },
    {
      "cell_type": "code",
      "execution_count": 18,
      "metadata": {
        "id": "xfy-J4lymaQX"
      },
      "outputs": [],
      "source": [
        "sentence_vectors = []\n",
        "for i in clean_sentences:\n",
        "    if len(i) != 0:\n",
        "        v = sum([word_embeddings.get(w, np.zeros((100,))) for w in i.split()])/(len(i.split())+0.001)\n",
        "    else:\n",
        "        v = np.zeros((100,))\n",
        "    sentence_vectors.append(v)"
      ]
    },
    {
      "cell_type": "code",
      "execution_count": 19,
      "metadata": {
        "colab": {
          "base_uri": "https://localhost:8080/"
        },
        "id": "DuOwwLUxmaQX",
        "outputId": "d21848b8-fbc5-4d4d-a4c8-12ac4d155ffa"
      },
      "outputs": [
        {
          "output_type": "stream",
          "name": "stdout",
          "text": [
            "Number of cleaned sentences : 119 \n",
            "\n",
            "Number of sentence vectors: 119\n"
          ]
        }
      ],
      "source": [
        "print(\"Number of cleaned sentences : {} \\n\\nNumber of sentence vectors: {}\".format(len(clean_sentences),len(sentence_vectors)))"
      ]
    },
    {
      "cell_type": "code",
      "execution_count": 20,
      "metadata": {
        "colab": {
          "base_uri": "https://localhost:8080/"
        },
        "id": "1hZhL1gYmaQX",
        "outputId": "ea8bba1d-4735-4fa1-d6f9-d5602ddf6224"
      },
      "outputs": [
        {
          "output_type": "stream",
          "name": "stdout",
          "text": [
            "Number of original sentences : 119\n"
          ]
        }
      ],
      "source": [
        "print(\"Number of original sentences : {}\".format(len(sentences)))\n",
        "sim_mat = np.zeros([len(sentences), len(sentences)])"
      ]
    },
    {
      "cell_type": "code",
      "execution_count": 21,
      "metadata": {
        "colab": {
          "base_uri": "https://localhost:8080/"
        },
        "id": "lYuvJej0maQX",
        "outputId": "072ef0d0-6be0-4765-afba-c8e76ea1db0f"
      },
      "outputs": [
        {
          "output_type": "stream",
          "name": "stdout",
          "text": [
            "Building Cosine Similarity\n"
          ]
        }
      ],
      "source": [
        "print(\"Building Cosine Similarity\")"
      ]
    },
    {
      "cell_type": "code",
      "execution_count": 22,
      "metadata": {
        "id": "rw3ScnFZmaQY"
      },
      "outputs": [],
      "source": [
        "for i in range(len(sentences)):\n",
        "    for j in range(len(sentences)):\n",
        "        if i != j:\n",
        "            sim_mat[i][j] = cosine_similarity(sentence_vectors[i].reshape(1,100), sentence_vectors[j].reshape(1,100))[0,0]"
      ]
    },
    {
      "cell_type": "code",
      "execution_count": 23,
      "metadata": {
        "colab": {
          "base_uri": "https://localhost:8080/"
        },
        "id": "8awf0QZimaQY",
        "outputId": "d6f5f12b-d60c-4401-843c-23390ec8a769"
      },
      "outputs": [
        {
          "output_type": "stream",
          "name": "stdout",
          "text": [
            "<class 'numpy.ndarray'>  size :  119\n"
          ]
        }
      ],
      "source": [
        "print(type(sim_mat),\" size : \",len(sim_mat))"
      ]
    },
    {
      "cell_type": "code",
      "execution_count": 24,
      "metadata": {
        "colab": {
          "base_uri": "https://localhost:8080/"
        },
        "id": "9XgiqtXGmaQY",
        "outputId": "a67ab0f4-c097-4665-b6fe-985a0e06c7d7"
      },
      "outputs": [
        {
          "output_type": "stream",
          "name": "stdout",
          "text": [
            "[[0.         0.64378339 0.59156996 ... 0.72776717 0.5850122  0.68277591]\n",
            " [0.64378339 0.         0.83267683 ... 0.77598292 0.79842889 0.87404495]\n",
            " [0.59156996 0.83267683 0.         ... 0.73326033 0.75388014 0.8130123 ]\n",
            " ...\n",
            " [0.72776717 0.77598292 0.73326033 ... 0.         0.74423134 0.87150967]\n",
            " [0.5850122  0.79842889 0.75388014 ... 0.74423134 0.         0.78779906]\n",
            " [0.68277591 0.87404495 0.8130123  ... 0.87150967 0.78779906 0.        ]]\n"
          ]
        }
      ],
      "source": [
        "print(sim_mat)"
      ]
    },
    {
      "cell_type": "code",
      "execution_count": 25,
      "metadata": {
        "id": "mf5ajB4OmaQZ"
      },
      "outputs": [],
      "source": [
        "nx_graph = nx.from_numpy_array(sim_mat)\n",
        "scores = nx.pagerank(nx_graph)"
      ]
    },
    {
      "cell_type": "code",
      "execution_count": 26,
      "metadata": {
        "colab": {
          "base_uri": "https://localhost:8080/"
        },
        "id": "ck1MQX85maQZ",
        "outputId": "e7cfd688-298a-4043-9b6e-f738decf37a1"
      },
      "outputs": [
        {
          "output_type": "stream",
          "name": "stdout",
          "text": [
            "<class 'dict'>  size :  119\n"
          ]
        }
      ],
      "source": [
        "print(type(scores),\" size : \",len(scores))"
      ]
    },
    {
      "cell_type": "code",
      "execution_count": 27,
      "metadata": {
        "id": "S_QogBwrmaQZ"
      },
      "outputs": [],
      "source": [
        "ranked_sentences = sorted(((scores[i],s) for i,s in enumerate(sentences)), reverse=True)"
      ]
    },
    {
      "cell_type": "code",
      "execution_count": 28,
      "metadata": {
        "colab": {
          "base_uri": "https://localhost:8080/"
        },
        "id": "mhOeKbipmaQZ",
        "outputId": "98f79aa0-fb95-4544-feb3-d704e84bbdf3"
      },
      "outputs": [
        {
          "output_type": "stream",
          "name": "stdout",
          "text": [
            "[(0.009293791287246103, \"When I'm on the courts or when I'm on the court playing, I'm a competitor and I want to beat every single person whether they're in the locker room or across the net.So I'm not the one to strike up a conversation about the weather and know that in the next few minutes I have to go and try to win a tennis match.\"), (0.009260614586854338, 'Major players feel that a big event in late November combined with one in January before the Australian Open will mean too much tennis and too little rest.'), (0.00924452157157331, 'Speaking at the Swiss Indoors tournament where he will play in Sundays final against Romanian qualifier Marius Copil, the world number three said that given the impossibly short time frame to make a decision, he opted out of any commitment.'), (0.009213900328590948, '\"I felt like the best weeks that I had to get to know players when I was playing were the Fed Cup weeks or the Olympic weeks, not necessarily during the tournaments.'), (0.009203588164545732, 'Currently in ninth place, Nishikori with a win could move to within 125 points of the cut for the eight-man event in London next month.'), (0.009136178564424065, 'He used his first break point to close out the first set before going up 3-0 in the second and wrapping up the win on his first match point.'), (0.009104756564812841, \"The Spaniard broke Anderson twice in the second but didn't get another chance on the South African's serve in the final set.\"), (0.009102625726884868, '\"We also had the impression that at this stage it might be better to play matches than to train.'), (0.009097421441929052, 'The competition is set to feature 18 countries in the November 18-24 finals in Madrid next year, and will replace the classic home-and-away ties played four times per year for decades.'), (0.009094807384751928, 'Federer said earlier this month in Shanghai in that his chances of playing the Davis Cup were all but non-existent.'), (0.009093905759714924, 'Roger Federer has revealed that organisers of the re-launched and condensed Davis Cup gave him three days to decide if he would commit to the controversial competition.'), (0.009089363711694935, 'Davenport enjoyed most of her success in the late 1990s and her third and final major tournament win came at the 2000 Australian Open.'), (0.009064760809020822, 'Because it was not always easy in the last weeks.\"'), (0.00906168300365082, 'Federer had an easier time than in his only previous match against Medvedev, a three-setter at Shanghai two weeks ago.'), (0.009059878094325862, 'Argentina and Britain received wild cards to the new-look event, and will compete along with the four 2018 semi-finalists and the 12 teams who win qualifying rounds next February.'), (0.009040595481224364, '\"On Monday, I am free and will look how I feel,\" Federer said after winning the Swiss Indoors.'), (0.009031689944726076, '\"Clearly you make your life more difficult, but still I was up 6-2, 3-1, break points, so things could have ended very quickly today, even though I didn\\'t have the best serve percentage stats.'), (0.009016694522978019, '\"Not always, but I really feel like in the mid-2000 years there was a huge shift of the attitudes of the top players and being more friendly and being more giving, and a lot of that had to do with players like Roger coming up.'), (0.009016568306673585, 'Meanwhile, Federer is hoping he can improve his service game as he hunts his ninth Swiss Indoors title this week.'), (0.009014976089954987, 'Kei Nishikori will try to end his long losing streak in ATP finals and Kevin Anderson will go for his second title of the year at the Erste Bank Open on Sunday.'), (0.008996828746548306, 'The end of the season is finally in sight, and with so many players defending,or losing,huge chunks of points in Singapore, Zhuhai and London, podcast co-hosts Nina Pantic and Irina Falconi discuss the art of defending points (02:14).'), (0.008994323928725819, '\"They only left me three days to decide\", Federer said.'), (0.008991766362928418, 'The Romanian aims for a first title after arriving at Basel without a career win over a top-10 opponent.'), (0.008966528091282016, \"The world No 1 has been forced to miss Spain's Davis Cup clash with France and the Asian hard court season.\"), (0.00894584706884791, \"Nadal's appearance in Paris is a big boost to the tournament organisers who could see Roger Federer withdraw.\"), (0.008943539641210712, 'Federer, 37, first broke through on tour over two decades ago and he has since gone on to enjoy a glittering career.'), (0.008942212482182606, \"Federer's success in Basel last week was the ninth time he has won his hometown tournament.\"), (0.008928322720005447, 'But first the 20-time Grand Slam winner wants to train on the Paris Masters court this afternoon before deciding whether to appear for his opening match against either Milos Raonic or Jo-Wilfried Tsonga.'), (0.008919130492987547, 'The 20-time Grand Slam champion has voiced doubts about the wisdom of the one-week format to be introduced by organisers Kosmos, who have promised the International Tennis Federation up to $3 billion in prize money over the next quarter-century.'), (0.008913135597756968, \"He came through two rounds of qualifying last weekend to reach the Basel main draw, including beating Zverev's older brother, Mischa.\"), (0.008912100616736342, 'But with the ATP World Tour Finals due to begin next month, Nadal is ready to prove his fitness before the season-ending event at the 02 Arena.'), (0.00889875815763709, 'It makes me incredibly happy to win my home tournament and make people happy here.'), (0.008894835971032659, \"It's a big deal because you never forget your first.\"), (0.008883452090560844, \"Novak Djokovic has said he will give precedence to the ATP's intended re-launch of the defunct World Team Cup in January 2020, at various Australian venues.\"), (0.008880329999098838, '\"I felt good all week and better every day.'), (0.008860865272110668, \"He then dropped his serve to love, and let another match point slip in Medvedev's next service game by netting a backhand.\"), (0.008860552382933833, \"I think just because you're in the same sport doesn't mean that you have to be friends with everyone just because you're categorized, you're a tennis player, so you're going to get along with tennis players.\"), (0.008856328221479538, 'In Singapore, one of the biggest storylines (aside from the matches, of course) has been the on-court coaching debate.'), (0.008855870133449226, '\"Maybe I should celebrate as if it were my last title.'), (0.008847892197876477, 'Federer dominated the 20th-ranked Medvedev and had his first match-point chance to break serve again at 5-1.'), (0.008835781707750767, 'Federer has been handed a difficult draw where could could come across Kevin Anderson, Novak Djokovic and Rafael Nadal in the latter rounds.'), (0.008831355542046336, \"Let's also not forget his two Grand Slam doubles triumphs this season.\"), (0.008817233998265154, '\"I didn\\'t serve very well [against first-round opponent Filip Kranjovic,\" Federer said.'), (0.00880365167475401, 'Nadal could then play defending champion Jack Sock in the third round before a potential quarter-final with either Borna Coric or Dominic Thiem.'), (0.008774774561520876, 'He could lose 1,400 points in the next few weeks, but instead of focusing on the negative, it can all be about perspective (06:28).'), (0.008749029216369749, 'But she claims the mentality of professional tennis players slowly began to change after the new millennium.'), (0.008747703117965262, \"Federer's projected route to the Paris final could also lead to matches against Kevin Anderson and Novak Djokovic.\"), (0.008731683804879445, 'Djokovic could play Marco Cecchinato in the second round.'), (0.008715866177458748, '\"I do not know if it\\'s maybe my last title, so today I try a lot more to absorb that and enjoy the moments much more consciously.'), (0.008709578504141008, 'Two players, Stefanos Tsitsipas and Kyle Edmund, won their first career ATP titles last week (13:26).'), (0.00870909302347104, '\"I could not make a decision in that time, so I told them to do what they wanted.\"'), (0.008700002629298393, 'Anderson has a shot at a fifth career title and second of the year after winning in New York in February.'), (0.008688526195816398, 'Nadal flew to Paris on Friday and footage from the Paris Masters official Twitter account shows the Spaniard smiling as he strides onto court for practice.'), (0.00868151272077752, 'He has lost eight straight finals since.'), (0.008678156677253962, 'Federer is in action at the Swiss Indoors in Basel and if he reaches the final, he could pull out of Paris in a bid to stay fresh for London.'), (0.008674617072972861, '\"And even though maybe we had smaller teams, I still think we kept to ourselves quite a bit.'), (0.008665996969401102, 'Nishikori leads Anderson 4-2 on career matchups, but the South African won their only previous meeting this year.'), (0.008656528130422671, '\"It seems pretty friendly right now,\" said Davenport.'), (0.008622437809648421, 'The Paris Masters draw has been made and Nadal will start his campaign on Tuesday or Wednesday against either Fernando Verdasco or Jeremy Chardy.'), (0.008621842454018607, 'The 37-year-old claimed his 99th ATP title and is hunting the century in the French capital this week.'), (0.008617309966607693, '\"I think there is a really nice environment and a great atmosphere, especially between some of the veteran players helping some of the younger players out.'), (0.008609461674850702, '\"And as long as I fear no injury, I play.\"'), (0.00859695783177663, 'When she said she is not really close to a lot of players, is that something strategic that she is doing?'), (0.008574003198645333, 'Nadal has not played tennis since he was forced to retire from the US Open semi-finals against Juan Martin Del Porto with a knee injury.'), (0.00856830038172713, '\"My children, my parents, my sister and my team are all there,\" Federer added.'), (0.008556893043271214, 'But ultimately tennis is just a very small part of what we do.'), (0.008552831099761434, \"It's no secret that Jack Sock has struggled on the singles court this year (his record is 7-19).\"), (0.008547315032853605, '\"I don\\'t like being under that kind of pressure,\" Federer said of the deadline Kosmos handed him.'), (0.008546416443897854, 'The 20-time Grand Slam winner is chasing his 99th ATP title at the Swiss Indoors this week and he faces Jan-Lennard Struff in the second round on Thursday (6pm BST).'), (0.008502881073903972, '\"On Tuesday I will fly to Paris and train in the afternoon to be ready for my first match on Wednesday night.'), (0.008501993305467099, \"The Russian player has no problems in openly speaking about it and in a recent interview she said: 'I don't really hide any feelings too much.\"), (0.00847741341084056, \"Uhm, I'm not really friendly or close to many players.\"), (0.00846725102679981, 'British No 1 Kyle Edmund is the 12th seed in Paris and will get underway in round two against either Karen Khachanov or Filip Krajinovic.'), (0.008463970416187743, 'Copil has two after also beating No.'), (0.00844331689249351, \"I think everyone just thinks because we're tennis players we should be the greatest of friends.\"), (0.008436192912070309, '\"I just felt like it really kind of changed where people were a little bit, definitely in the 90s, a lot more quiet, into themselves, and then it started to become better.\"'), (0.008420356604520802, 'Nina and Irina give their opinions on what coaching should look like in the future, on both tours (18:55).'), (0.008406020981041979, 'Seeking a ninth title at his hometown event, and a 99th overall, Federer will play 93th-ranked Marius Copil on Sunday.'), (0.00838868587493445, 'Irina looks back at her WTA title win in Bogota in 2016, and tells an unforgettable story about her semifinal drama (14:04).'), (0.008327135496048674, '\"It means the world to me.'), (0.00830657500965553, 'But as it stands, Federer is in the draw and is scheduled to face either former world No 3 Milos Raonic or Jo-Wilfried Tsonga in the second round.'), (0.008276617437462169, 'Nishikori held serve throughout against Kukushkin, who came through qualifying.'), (0.00825714424529151, \"Is it different on the men's tour than the women's tour?\"), (0.008251000778010123, \"I have not a lot of friends away from the courts.'\"), (0.008232471583451704, 'Copil fired 26 aces past Zverev and never dropped serve, clinching after 2 1/2 hours with a forehand volley winner to break Zverev for the second time in the semifinal.'), (0.008223434014766266, 'Copil upset expectations of a Federer final against Alexander Zverev in a 6-3, 6-7 (6), 6-4 win over the fifth-ranked German in the earlier semifinal.'), (0.008156804670239779, \"I have friends that have completely different jobs and interests, and I've met them in very different parts of my life.\"), (0.008146814822101285, \"I say my hellos, but I'm not sending any players flowers as well.\"), (0.008118561004420813, 'With a victory on Sunday, Anderson will qualify for the ATP Finals.'), (0.008107483326957206, '\"But maybe that\\'s exactly what caught up to me eventually.'), (0.008083543253002175, 'I think every person has different interests.'), (0.008082033178688669, '\"It is always very emotional for me to thank my team.'), (0.008072651812837244, 'Maria Sharapova has basically no friends as tennis players on the WTA Tour.'), (0.008071958126597792, 'BASEL, Switzerland (AP), Roger Federer advanced to the 14th Swiss Indoors final of his career by beating seventh-seeded Daniil Medvedev 6-1, 6-4 on Saturday.'), (0.008035132144914888, 'This is where the first rounds can be tricky.\"'), (0.008031673751930634, '\"I highly doubt it, of course.'), (0.008011884089928669, 'Against Verdasco, Anderson hit nine of his 19 aces in the opening set.'), (0.007971530785458715, 'We will see what happens,\" he said.'), (0.007933352603250135, 'This was designed for the future generation of players.\"'), (0.007911644636405573, \"A winner of 11 ATP events, Nishikori hasn't triumphed since winning in Memphis in February 2016.\"), (0.007889359687336901, '\"There are very touching moments: seeing the ball children, the standing ovations, all the familiar faces in the audience.'), (0.007877487076828758, \"It's just getting used to it.\"), (0.007873247676977725, '\"I think I was misfiring the corners, I was not hitting the lines enough.'), (0.007851104227014384, 'Federer won the Swiss Indoors last week by beating Romanian qualifier Marius Copil in the final.'), (0.007812826598034563, \"There are so many other things that we're interested in, that we do.'\"), (0.007811931832998157, 'I think everyone knows this is my job here.'), (0.007757844405017172, 'And he was delighted to be watched on by all of his family and friends as he purchased 60 tickets for the final for those dearest to him.'), (0.0077159707722107345, 'Kosmos is headed by Barcelona footballer Gerard Pique, who is hoping fellow Spaniard Rafael Nadal will play in the upcoming event.'), (0.007500319341702242, \"I'm a pretty competitive girl.\"), (0.007421917050284241, 'He clinched on his fourth chance when Medvedev netted from the baseline.'), (0.0072760302573590206, '\"It\\'s a very pleasant atmosphere, I\\'d have to say, around the locker rooms.'), (0.007259944437717514, 'The fifth-seeded Nishikori reached his third final of 2018 after beating Mikhail Kukushkin of Kazakhstan 6-4, 6-3 in the semifinals.'), (0.00723686916191238, '\"I didn\\'t to have time to consult with all the people I had to consult.'), (0.007049062149305041, '\"I do not think this was designed for me, anyhow.'), (0.006701898123501064, '6 Marin Cilic in the second round.'), (0.0066964345713595224, 'The second-seeded Anderson defeated Fernando Verdasco 6-3, 3-6, 6-4.'), (0.006109321272117456, 'And sometimes it tilts with the emotions, sometimes I just stumble.'), (0.005651524729040958, 'Tennis giveth, and tennis taketh away.'), (0.0012695751770095795, \"'No, not at all.\")]\n"
          ]
        }
      ],
      "source": [
        "print(ranked_sentences)"
      ]
    },
    {
      "cell_type": "code",
      "execution_count": 29,
      "metadata": {
        "colab": {
          "base_uri": "https://localhost:8080/"
        },
        "id": "M5riaHMGmaQZ",
        "outputId": "639c8439-9cd1-4f4f-c22d-90e605085a26"
      },
      "outputs": [
        {
          "output_type": "stream",
          "name": "stdout",
          "text": [
            "Enter File Name : Tennis\n",
            "When I'm on the courts or when I'm on the court playing, I'm a competitor and I want to beat every single person whether they're in the locker room or across the net.So I'm not the one to strike up a conversation about the weather and know that in the next few minutes I have to go and try to win a tennis match.\n",
            "\n",
            "Major players feel that a big event in late November combined with one in January before the Australian Open will mean too much tennis and too little rest.\n",
            "\n",
            "Speaking at the Swiss Indoors tournament where he will play in Sundays final against Romanian qualifier Marius Copil, the world number three said that given the impossibly short time frame to make a decision, he opted out of any commitment.\n",
            "\n",
            "\"I felt like the best weeks that I had to get to know players when I was playing were the Fed Cup weeks or the Olympic weeks, not necessarily during the tournaments.\n",
            "\n",
            "Currently in ninth place, Nishikori with a win could move to within 125 points of the cut for the eight-man event in London next month.\n",
            "\n",
            "He used his first break point to close out the first set before going up 3-0 in the second and wrapping up the win on his first match point.\n",
            "\n",
            "The Spaniard broke Anderson twice in the second but didn't get another chance on the South African's serve in the final set.\n",
            "\n",
            "\"We also had the impression that at this stage it might be better to play matches than to train.\n",
            "\n",
            "The competition is set to feature 18 countries in the November 18-24 finals in Madrid next year, and will replace the classic home-and-away ties played four times per year for decades.\n",
            "\n",
            "Federer said earlier this month in Shanghai in that his chances of playing the Davis Cup were all but non-existent.\n",
            "\n",
            "\n"
          ]
        }
      ],
      "source": [
        "title = input(\"Enter File Name : \")\n",
        "txt = \"\"\n",
        "for i in range(10):\n",
        "    txt = txt + ranked_sentences[i][1] +  \"\\n\\n\"\n",
        "    \n",
        "print(txt)\n"
      ]
    },
    {
      "cell_type": "code",
      "execution_count": 31,
      "metadata": {
        "id": "6mBL-yCvmaQa"
      },
      "outputs": [],
      "source": [
        "f = open(\"gdrive/MyDrive/Colab/Text Summarization/{}.txt\".format(title),\"w\")\n",
        "f.write(txt)\n",
        "f.close()"
      ]
    }
  ],
  "metadata": {
    "kernelspec": {
      "display_name": "Python 3",
      "language": "python",
      "name": "python3"
    },
    "language_info": {
      "codemirror_mode": {
        "name": "ipython",
        "version": 3
      },
      "file_extension": ".py",
      "mimetype": "text/x-python",
      "name": "python",
      "nbconvert_exporter": "python",
      "pygments_lexer": "ipython3",
      "version": "3.7.3"
    },
    "colab": {
      "name": "Text Summarization .ipynb",
      "provenance": [],
      "include_colab_link": true
    }
  },
  "nbformat": 4,
  "nbformat_minor": 0
}